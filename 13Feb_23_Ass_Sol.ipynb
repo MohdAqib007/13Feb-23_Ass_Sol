{
 "cells": [
  {
   "cell_type": "code",
   "execution_count": 7,
   "id": "626495d9-070b-4f34-a334-da048f1ee4ee",
   "metadata": {},
   "outputs": [
    {
     "ename": "IndentationError",
     "evalue": "expected an indented block after 'try' statement on line 14 (3824615039.py, line 16)",
     "output_type": "error",
     "traceback": [
      "\u001b[0;36m  Cell \u001b[0;32mIn[7], line 16\u001b[0;36m\u001b[0m\n\u001b[0;31m    except Exception as e:\u001b[0m\n\u001b[0m    ^\u001b[0m\n\u001b[0;31mIndentationError\u001b[0m\u001b[0;31m:\u001b[0m expected an indented block after 'try' statement on line 14\n"
     ]
    }
   ],
   "source": [
    "#Q1. Explain why we have to use the Exception class while creating a Custom Exception.\n",
    "#Note: Here Exception class refers to the base class for all the exceptions.\n",
    "#Ans-\n",
    "\n",
    "'''When creating a custom exception in Python, we inherit from the built-in Exception class. \n",
    "This is because the Exception class is the base class for all built-in exceptions in Python, and it provides important functionality for handling exceptions in our code.\n",
    "\n",
    "By inheriting from the Exception class, our custom exception will inherit all of its properties and methods, including the ability to capture and store exception details such as the exception type, message, and traceback. \n",
    "This makes it easier to handle and report errors in our code.\n",
    "\n",
    "In addition, the Exception class provides a consistent interface for all exceptions, which allows us to handle them in a uniform way in our code. \n",
    "For example, we can catch all exceptions using a catch-all except block that catches the Exception class:'''\n",
    "\n",
    "try:\n",
    "    # some code that may raise an exception\n",
    "except Exception as e:\n",
    "    # handle the exception\n",
    "#By using the Exception class as the base class for our custom exception, we ensure that it conforms to the same interface as all other built-in exceptions, making it easy to use and integrate into our code."
   ]
  },
  {
   "cell_type": "code",
   "execution_count": 8,
   "id": "1c5f35eb-44f5-487d-9e50-4a60dd5877cf",
   "metadata": {},
   "outputs": [
    {
     "name": "stdout",
     "output_type": "stream",
     "text": [
      "Exception\n",
      " BaseException\n",
      "  object\n"
     ]
    }
   ],
   "source": [
    "#Q2. Write a python program to print Python Exception Hierarchy.\n",
    "#Ans-\n",
    "\n",
    "# Python program to print exception hierarchy\n",
    "\n",
    "def print_exception_hierarchy(exc, level=0):\n",
    "    # Print the exception and its base classes\n",
    "    print(f\"{' '*level}{exc.__name__}\")\n",
    "    for base in exc.__bases__:\n",
    "        print_exception_hierarchy(base, level+1)\n",
    "\n",
    "# Call the function to print the hierarchy\n",
    "print_exception_hierarchy(Exception)\n",
    "\n",
    "'''In this program, we define a function called print_exception_hierarchy that takes an exception class as input and prints its hierarchy. \n",
    "The function uses recursion to print the hierarchy of the exception and its base classes.\n",
    "\n",
    "To print the hierarchy, we first print the name of the exception class, indented by the current level of recursion. \n",
    "We then iterate over the base classes of the exception using the __bases__ attribute, and recursively call the print_exception_hierarchy function on each base class, increasing the indentation level by 1.\n",
    "\n",
    "Finally, we call the print_exception_hierarchy function with the Exception class as input to print the entire exception hierarchy.\n",
    "\n",
    "When we run the program, it will output the hierarchy of the Exception class and its base classes:'''\n",
    "\n"
   ]
  },
  {
   "cell_type": "code",
   "execution_count": null,
   "id": "a9cd6db5-fb81-48af-b116-5892617dd772",
   "metadata": {},
   "outputs": [],
   "source": [
    "'''This shows that Exception is a subclass of BaseException, which is a subclass of the base object class.'''"
   ]
  },
  {
   "cell_type": "code",
   "execution_count": null,
   "id": "432386ec-374f-44e9-9b50-6103d7685b3f",
   "metadata": {},
   "outputs": [],
   "source": [
    "#Q3. What errors are defined in the ArithmeticError class? Explain any two with an example.\n",
    "#Ans-\n",
    "\n",
    "'''The ArithmeticError class is a built-in Python exception class that represents errors that occur during arithmetic operations. \n",
    "It is a subclass of the Exception class and is used to handle arithmetic-related errors such as division by zero, overflow, and underflow.\n",
    "\n",
    "Here are two examples of errors that are defined in the ArithmeticError class:\n",
    "\n",
    "1. ZeroDivisionError: This error occurs when we try to divide a number by zero. For example:'''\n",
    "\n",
    "a = 10\n",
    "b = 0\n",
    "c = a/b # This will raise a ZeroDivisionError\n",
    "\n",
    "'''In this example, we are trying to divide the number a by zero, which is not allowed. This will result in a ZeroDivisionError being raised.\n",
    "\n",
    "2. OverflowError: This error occurs when we try to perform an arithmetic operation that results in a value that is too large to be represented by the computer's memory. \n",
    "For example:'''\n",
    "\n",
    "import sys\n",
    "a = sys.maxsize # Get the maximum integer value that can be represented\n",
    "b = a * a # This will raise an OverflowError\n",
    "\n",
    "'''In this example, we are trying to multiply the maximum integer value a by itself, which results in a value that is too large to be represented by the computer's memory. \n",
    "This will result in an OverflowError being raised.\n",
    "\n",
    "In both cases, the ArithmeticError class is the base class for the specific error that is being raised (ZeroDivisionError and OverflowError, respectively). \n",
    "This allows us to catch all arithmetic-related errors using a catch-all except block that catches the ArithmeticError class:'''\n",
    "\n",
    "try:\n",
    "    # Some arithmetic operation that may raise an error\n",
    "except ArithmeticError as e:\n",
    "    # Handle the error\n",
    "\n",
    "#By catching the ArithmeticError class, we can handle all arithmetic-related errors in a uniform way, regardless of the specific error that was raised."
   ]
  },
  {
   "cell_type": "code",
   "execution_count": null,
   "id": "f7001883-ea15-4602-9a99-3e48fdef2d15",
   "metadata": {},
   "outputs": [],
   "source": [
    "#Q4. Why LookupError class is used? Explain with an example KeyError and IndexError.\n",
    "#Ans-\n",
    "\n",
    "'''The LookupError class is a built-in Python exception class that represents errors that occur when trying to access an invalid index or key in a sequence or dictionary. \n",
    "It is a subclass of the Exception class and is used to handle lookup-related errors such as IndexError and KeyError.\n",
    "Here are two examples of errors that are subclasses of the LookupError class:\n",
    "\n",
    "1. KeyError: This error occurs when we try to access a dictionary key that does not exist. For example:'''\n",
    "\n",
    "my_dict = {'a': 1, 'b': 2, 'c': 3}\n",
    "value = my_dict['d'] # This will raise a KeyError\n",
    "\n",
    "'''In this example, we are trying to access the dictionary key 'd', which does not exist in the dictionary my_dict. This will result in a KeyError being raised.\n",
    "\n",
    "2. IndexError: This error occurs when we try to access a list or tuple index that is out of range. For example:'''\n",
    "\n",
    "my_list = [1, 2, 3]\n",
    "value = my_list[3] # This will raise an IndexError\n",
    "\n",
    "'''In this example, we are trying to access the element at index 3 of the list my_list, but the list only has three elements (with indices 0, 1, and 2). \n",
    "This will result in an IndexError being raised.\n",
    "\n",
    "In both cases, the LookupError class is the base class for the specific error that is being raised (KeyError and IndexError, respectively).'''"
   ]
  },
  {
   "cell_type": "code",
   "execution_count": null,
   "id": "6ee1f685-5310-4450-b353-df10da513581",
   "metadata": {},
   "outputs": [],
   "source": [
    "#Q5. Explain ImportError. What is ModuleNotFoundError?\n",
    "#Ans-\n",
    "\n",
    "'''ImportError and ModuleNotFoundError are both built-in Python exception classes that represent errors that occur when a module or package cannot be imported.\n",
    "\n",
    "The ImportError class is a base class for all import-related errors. It is raised when an imported module or package cannot be found or loaded.\n",
    "\n",
    "For example, consider the following code:'''\n",
    "\n",
    "try:\n",
    "    import my_module\n",
    "except ImportError as e:\n",
    "    print(f\"Import error: {e}\")\n",
    "\n",
    "'''In this code, we are trying to import a module named my_module. If the module cannot be found or loaded for any reason, an ImportError will be raised. We are catching the ImportError and printing an error message that includes the exception object e.\n",
    "\n",
    "The ModuleNotFoundError class is a subclass of ImportError. It is specifically raised when the requested module or package cannot be found.\n",
    "\n",
    "For example, consider the following code:'''\n",
    "\n",
    "try:\n",
    "    import my_missing_module\n",
    "except ModuleNotFoundError as e:\n",
    "    print(f\"Module not found error: {e}\")\n",
    "\n",
    "    \n",
    "'''In this code, we are trying to import a module named my_missing_module that does not exist. Since the module cannot be found, a ModuleNotFoundError will be raised. \n",
    "We are catching the ModuleNotFoundError and printing an error message that includes the exception object e.\n",
    "\n",
    "In summary, ImportError is a more general exception class that can be raised for any import-related error, while ModuleNotFoundError is a more specific subclass of ImportError that is raised specifically when a requested module or package cannot be found.'''"
   ]
  },
  {
   "cell_type": "code",
   "execution_count": null,
   "id": "2d029c63-7278-4cee-97fe-042ab7ed1e3c",
   "metadata": {},
   "outputs": [],
   "source": [
    "#Q6. List down some best practices for exception handling in python.\n",
    "#Ans-\n",
    "\n",
    "'''Here are some best practices for exception handling in Python:\n",
    "\n",
    "1. Use specific exception classes: Catch specific exception classes instead of using the generic Exception class. \n",
    "This makes the code more readable and helps to avoid catching and handling unintended exceptions.\n",
    "\n",
    "2. Keep exception handling separate from the main code: Use separate try-except blocks for each operation that can potentially raise an exception. \n",
    "This makes the code more readable and easier to debug.\n",
    "\n",
    "3. Handle exceptions appropriately: Handle exceptions in an appropriate manner, depending on the situation. \n",
    "For example, if an exception occurs due to invalid user input, notify the user and prompt for valid input. If an exception occurs due to a system error, log the error and exit gracefully.\n",
    "\n",
    "4. Use finally block: Use finally block to execute code that needs to run regardless of whether an exception was raised or not. \n",
    "This is useful for releasing resources, closing files, or cleaning up after a task.\n",
    "\n",
    "5. Don't ignore exceptions: Do not ignore exceptions or simply print an error message and continue. \n",
    "This can lead to unexpected behavior or difficult-to-debug issues later on.\n",
    "\n",
    "6. Use built-in functions and libraries for exception handling: Python has many built-in functions and libraries that can simplify exception handling. \n",
    "For example, the logging module can be used to log error messages to a file or stream, and the traceback module can be used to print detailed stack traces.\n",
    "\n",
    "7. Avoid catching and re-raising exceptions unnecessarily: Avoid catching and re-raising exceptions unnecessarily, as this can lead to confusing stack traces and make debugging more difficult.\n",
    "\n",
    "8. Use custom exception classes where appropriate: Use custom exception classes to provide more information about specific error conditions. \n",
    "This can make it easier to handle errors in a more granular way and provide more informative error messages to users.\n",
    "\n",
    "By following these best practices, you can write robust and maintainable code that handles exceptions effectively and gracefully.'''"
   ]
  },
  {
   "cell_type": "code",
   "execution_count": null,
   "id": "a29bb5e2-42c7-4306-871d-47cce5c05487",
   "metadata": {},
   "outputs": [],
   "source": []
  },
  {
   "cell_type": "code",
   "execution_count": null,
   "id": "073938a4-47dd-493c-a2e9-452a550590ae",
   "metadata": {},
   "outputs": [],
   "source": []
  },
  {
   "cell_type": "code",
   "execution_count": null,
   "id": "8436c840-a25d-4239-93f7-da28693241d9",
   "metadata": {},
   "outputs": [],
   "source": []
  }
 ],
 "metadata": {
  "kernelspec": {
   "display_name": "Python 3 (ipykernel)",
   "language": "python",
   "name": "python3"
  },
  "language_info": {
   "codemirror_mode": {
    "name": "ipython",
    "version": 3
   },
   "file_extension": ".py",
   "mimetype": "text/x-python",
   "name": "python",
   "nbconvert_exporter": "python",
   "pygments_lexer": "ipython3",
   "version": "3.10.8"
  }
 },
 "nbformat": 4,
 "nbformat_minor": 5
}
